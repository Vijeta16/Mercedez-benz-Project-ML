{
 "cells": [
  {
   "cell_type": "code",
   "execution_count": 2,
   "id": "fb25b2f1",
   "metadata": {},
   "outputs": [],
   "source": [
    "#import libraries\n",
    "import numpy as np\n",
    "import pandas as pd\n",
    "from sklearn.decomposition import PCA\n",
    "import warnings\n",
    "warnings.filterwarnings(\"ignore\")"
   ]
  },
  {
   "cell_type": "code",
   "execution_count": 3,
   "id": "240c0ab2",
   "metadata": {},
   "outputs": [
    {
     "name": "stdout",
     "output_type": "stream",
     "text": [
      "(4209, 378)\n",
      "   ID       y  X0 X1  X2 X3 X4 X5 X6 X8  ...  X375  X376  X377  X378  X379  \\\n",
      "0   0  130.81   k  v  at  a  d  u  j  o  ...     0     0     1     0     0   \n",
      "1   6   88.53   k  t  av  e  d  y  l  o  ...     1     0     0     0     0   \n",
      "2   7   76.26  az  w   n  c  d  x  j  x  ...     0     0     0     0     0   \n",
      "3   9   80.62  az  t   n  f  d  x  l  e  ...     0     0     0     0     0   \n",
      "4  13   78.02  az  v   n  f  d  h  d  n  ...     0     0     0     0     0   \n",
      "\n",
      "   X380  X382  X383  X384  X385  \n",
      "0     0     0     0     0     0  \n",
      "1     0     0     0     0     0  \n",
      "2     0     1     0     0     0  \n",
      "3     0     0     0     0     0  \n",
      "4     0     0     0     0     0  \n",
      "\n",
      "[5 rows x 378 columns]\n"
     ]
    }
   ],
   "source": [
    "df_train=pd.read_csv('train.csv')\n",
    "print(df_train.shape)\n",
    "print(df_train.head())"
   ]
  },
  {
   "cell_type": "code",
   "execution_count": 4,
   "id": "61684763",
   "metadata": {},
   "outputs": [
    {
     "name": "stdout",
     "output_type": "stream",
     "text": [
      "Number of features: 376\n",
      "Feature types:\n"
     ]
    },
    {
     "data": {
      "text/plain": [
       "int64     368\n",
       "object      8\n",
       "dtype: int64"
      ]
     },
     "execution_count": 4,
     "metadata": {},
     "output_type": "execute_result"
    }
   ],
   "source": [
    "y_train = df_train['y'].values\n",
    "cols = [c for c in df_train.columns if 'X' in c]\n",
    "print('Number of features: {}'.format(len(cols)))\n",
    "print('Feature types:')\n",
    "df_train[cols].dtypes.value_counts()"
   ]
  },
  {
   "cell_type": "code",
   "execution_count": 5,
   "id": "65439519",
   "metadata": {},
   "outputs": [
    {
     "name": "stdout",
     "output_type": "stream",
     "text": [
      "Constant features: 12 Binary features: 356 Categorical features: 8\n",
      "\n",
      "Constant features: ['X11', 'X93', 'X107', 'X233', 'X235', 'X268', 'X289', 'X290', 'X293', 'X297', 'X330', 'X347']\n",
      "Categorical features: ['X0', 'X1', 'X2', 'X3', 'X4', 'X5', 'X6', 'X8']\n"
     ]
    }
   ],
   "source": [
    "counts = [[], [], []]\n",
    "for c in cols:\n",
    "    typ = df_train[c].dtype\n",
    "    uniq = len(np.unique(df_train[c]))\n",
    "    if uniq == 1:\n",
    "        counts[0].append(c)\n",
    "    elif uniq == 2 and typ == np.int64:\n",
    "        counts[1].append(c)\n",
    "    else:\n",
    "        counts[2].append(c)\n",
    "print('Constant features: {} Binary features: {} Categorical features: {}\\n'.format(*[len(c) for c in counts]))\n",
    "print('Constant features:', counts[0])\n",
    "print('Categorical features:', counts[2])"
   ]
  },
  {
   "cell_type": "code",
   "execution_count": 6,
   "id": "8957cb8b",
   "metadata": {},
   "outputs": [],
   "source": [
    "df_test = pd.read_csv('test.csv')\n",
    "usable_columns = list(set(df_train.columns) -set(['ID', 'y']))\n",
    "y_train = df_train['y'].values\n",
    "id_test = df_test['ID'].values\n",
    "x_train = df_train[usable_columns]\n",
    "x_test = df_test[usable_columns]"
   ]
  },
  {
   "cell_type": "code",
   "execution_count": 7,
   "id": "48aee2e4",
   "metadata": {},
   "outputs": [
    {
     "name": "stdout",
     "output_type": "stream",
     "text": [
      "There are no missing values in the dataframe\n",
      "There are no missing values in the dataframe\n"
     ]
    }
   ],
   "source": [
    "# Step7: Check for null and unique values for test and train sets\n",
    "def check_missing_values(df):\n",
    "    if df.isnull().any().any():\n",
    "        print(\"There are missing values in the dataframe\")\n",
    "    else:\n",
    "        print(\"There are no missing values in the dataframe\")\n",
    "check_missing_values(x_train)\n",
    "check_missing_values(x_test)"
   ]
  },
  {
   "cell_type": "code",
   "execution_count": 8,
   "id": "ae91e042",
   "metadata": {},
   "outputs": [
    {
     "data": {
      "text/html": [
       "<div>\n",
       "<style scoped>\n",
       "    .dataframe tbody tr th:only-of-type {\n",
       "        vertical-align: middle;\n",
       "    }\n",
       "\n",
       "    .dataframe tbody tr th {\n",
       "        vertical-align: top;\n",
       "    }\n",
       "\n",
       "    .dataframe thead th {\n",
       "        text-align: right;\n",
       "    }\n",
       "</style>\n",
       "<table border=\"1\" class=\"dataframe\">\n",
       "  <thead>\n",
       "    <tr style=\"text-align: right;\">\n",
       "      <th></th>\n",
       "      <th>X192</th>\n",
       "      <th>X340</th>\n",
       "      <th>X164</th>\n",
       "      <th>X71</th>\n",
       "      <th>X227</th>\n",
       "      <th>X257</th>\n",
       "      <th>X290</th>\n",
       "      <th>X200</th>\n",
       "      <th>X270</th>\n",
       "      <th>X77</th>\n",
       "      <th>...</th>\n",
       "      <th>X3</th>\n",
       "      <th>X137</th>\n",
       "      <th>X27</th>\n",
       "      <th>X201</th>\n",
       "      <th>X183</th>\n",
       "      <th>X285</th>\n",
       "      <th>X271</th>\n",
       "      <th>X274</th>\n",
       "      <th>X369</th>\n",
       "      <th>X90</th>\n",
       "    </tr>\n",
       "  </thead>\n",
       "  <tbody>\n",
       "    <tr>\n",
       "      <th>0</th>\n",
       "      <td>0</td>\n",
       "      <td>0</td>\n",
       "      <td>0</td>\n",
       "      <td>0</td>\n",
       "      <td>0</td>\n",
       "      <td>0</td>\n",
       "      <td>0</td>\n",
       "      <td>0</td>\n",
       "      <td>0</td>\n",
       "      <td>0</td>\n",
       "      <td>...</td>\n",
       "      <td>97</td>\n",
       "      <td>1</td>\n",
       "      <td>0</td>\n",
       "      <td>0</td>\n",
       "      <td>0</td>\n",
       "      <td>1</td>\n",
       "      <td>0</td>\n",
       "      <td>0</td>\n",
       "      <td>0</td>\n",
       "      <td>0</td>\n",
       "    </tr>\n",
       "    <tr>\n",
       "      <th>1</th>\n",
       "      <td>0</td>\n",
       "      <td>0</td>\n",
       "      <td>0</td>\n",
       "      <td>0</td>\n",
       "      <td>0</td>\n",
       "      <td>0</td>\n",
       "      <td>0</td>\n",
       "      <td>0</td>\n",
       "      <td>0</td>\n",
       "      <td>0</td>\n",
       "      <td>...</td>\n",
       "      <td>101</td>\n",
       "      <td>0</td>\n",
       "      <td>1</td>\n",
       "      <td>0</td>\n",
       "      <td>0</td>\n",
       "      <td>1</td>\n",
       "      <td>0</td>\n",
       "      <td>0</td>\n",
       "      <td>0</td>\n",
       "      <td>0</td>\n",
       "    </tr>\n",
       "    <tr>\n",
       "      <th>2</th>\n",
       "      <td>0</td>\n",
       "      <td>0</td>\n",
       "      <td>0</td>\n",
       "      <td>1</td>\n",
       "      <td>0</td>\n",
       "      <td>0</td>\n",
       "      <td>0</td>\n",
       "      <td>0</td>\n",
       "      <td>0</td>\n",
       "      <td>0</td>\n",
       "      <td>...</td>\n",
       "      <td>99</td>\n",
       "      <td>1</td>\n",
       "      <td>1</td>\n",
       "      <td>0</td>\n",
       "      <td>0</td>\n",
       "      <td>0</td>\n",
       "      <td>0</td>\n",
       "      <td>1</td>\n",
       "      <td>0</td>\n",
       "      <td>0</td>\n",
       "    </tr>\n",
       "    <tr>\n",
       "      <th>3</th>\n",
       "      <td>0</td>\n",
       "      <td>0</td>\n",
       "      <td>0</td>\n",
       "      <td>1</td>\n",
       "      <td>0</td>\n",
       "      <td>0</td>\n",
       "      <td>0</td>\n",
       "      <td>0</td>\n",
       "      <td>0</td>\n",
       "      <td>0</td>\n",
       "      <td>...</td>\n",
       "      <td>102</td>\n",
       "      <td>0</td>\n",
       "      <td>1</td>\n",
       "      <td>0</td>\n",
       "      <td>0</td>\n",
       "      <td>0</td>\n",
       "      <td>0</td>\n",
       "      <td>0</td>\n",
       "      <td>0</td>\n",
       "      <td>0</td>\n",
       "    </tr>\n",
       "    <tr>\n",
       "      <th>4</th>\n",
       "      <td>0</td>\n",
       "      <td>0</td>\n",
       "      <td>0</td>\n",
       "      <td>0</td>\n",
       "      <td>0</td>\n",
       "      <td>0</td>\n",
       "      <td>0</td>\n",
       "      <td>0</td>\n",
       "      <td>0</td>\n",
       "      <td>0</td>\n",
       "      <td>...</td>\n",
       "      <td>102</td>\n",
       "      <td>0</td>\n",
       "      <td>1</td>\n",
       "      <td>0</td>\n",
       "      <td>0</td>\n",
       "      <td>0</td>\n",
       "      <td>0</td>\n",
       "      <td>0</td>\n",
       "      <td>0</td>\n",
       "      <td>0</td>\n",
       "    </tr>\n",
       "  </tbody>\n",
       "</table>\n",
       "<p>5 rows × 376 columns</p>\n",
       "</div>"
      ],
      "text/plain": [
       "   X192  X340  X164  X71  X227  X257  X290  X200  X270  X77  ...   X3  X137  \\\n",
       "0     0     0     0    0     0     0     0     0     0    0  ...   97     1   \n",
       "1     0     0     0    0     0     0     0     0     0    0  ...  101     0   \n",
       "2     0     0     0    1     0     0     0     0     0    0  ...   99     1   \n",
       "3     0     0     0    1     0     0     0     0     0    0  ...  102     0   \n",
       "4     0     0     0    0     0     0     0     0     0    0  ...  102     0   \n",
       "\n",
       "   X27  X201  X183  X285  X271  X274  X369  X90  \n",
       "0    0     0     0     1     0     0     0    0  \n",
       "1    1     0     0     1     0     0     0    0  \n",
       "2    1     0     0     0     0     1     0    0  \n",
       "3    1     0     0     0     0     0     0    0  \n",
       "4    1     0     0     0     0     0     0    0  \n",
       "\n",
       "[5 rows x 376 columns]"
      ]
     },
     "execution_count": 8,
     "metadata": {},
     "output_type": "execute_result"
    }
   ],
   "source": [
    "# Step8: If for any column(s), the variance is equal to zero,then you need to remove those variable(s)and Apply label encoder\n",
    "for column in usable_columns:\n",
    "    cardinality = len(np.unique(x_train[column]))\n",
    "    if cardinality == 1:\n",
    "        x_train.drop(column, axis=1) # Column with only one, value is useless so we drop it\n",
    "        x_test.drop(column, axis=1)\n",
    "    if cardinality > 2: # Column is categorical\n",
    "        mapper = lambda x: sum([ord(digit) for digit in x])\n",
    "        x_train[column] = x_train[column].apply(mapper)\n",
    "        x_test[column] = x_test[column].apply(mapper)\n",
    "x_train.head()"
   ]
  },
  {
   "cell_type": "code",
   "execution_count": 9,
   "id": "1aed312e",
   "metadata": {},
   "outputs": [
    {
     "name": "stdout",
     "output_type": "stream",
     "text": [
      "Feature types:\n"
     ]
    },
    {
     "data": {
      "text/plain": [
       "int64    376\n",
       "dtype: int64"
      ]
     },
     "execution_count": 9,
     "metadata": {},
     "output_type": "execute_result"
    }
   ],
   "source": [
    "# Step9: Make sure the data is now changed into numericals\n",
    "print('Feature types:')\n",
    "x_train[cols].dtypes.value_counts()"
   ]
  },
  {
   "cell_type": "code",
   "execution_count": 10,
   "id": "e1e885e7",
   "metadata": {},
   "outputs": [],
   "source": [
    "# Step10: Perform dimensionality reduction\n",
    "n_comp = 12\n",
    "pca = PCA(n_components=n_comp, random_state=42)\n",
    "pca2_results_train = pca.fit_transform(x_train)\n",
    "pca2_results_test = pca.transform(x_test)\n"
   ]
  },
  {
   "cell_type": "code",
   "execution_count": 11,
   "id": "f1639d95",
   "metadata": {},
   "outputs": [
    {
     "name": "stdout",
     "output_type": "stream",
     "text": [
      "[18:08:42] WARNING: C:/Users/Administrator/workspace/xgboost-win64_release_1.4.0/src/objective/regression_obj.cu:171: reg:linear is now deprecated in favor of reg:squarederror.\n",
      "[0]\ttrain-rmse:98.99695\ttrain-r2:-59.49733\tvalid-rmse:98.88884\tvalid-r2:-61.82690\n",
      "[10]\ttrain-rmse:81.14410\ttrain-r2:-39.64492\tvalid-rmse:81.07848\tvalid-r2:-41.23399\n",
      "[20]\ttrain-rmse:66.59753\ttrain-r2:-26.37844\tvalid-rmse:66.55611\tvalid-r2:-27.45948\n",
      "[30]\ttrain-rmse:54.75785\ttrain-r2:-17.50910\tvalid-rmse:54.73342\tvalid-r2:-18.24670\n",
      "[40]\ttrain-rmse:45.14008\ttrain-r2:-11.57816\tvalid-rmse:45.13793\tvalid-r2:-12.08984\n",
      "[50]\ttrain-rmse:37.34669\ttrain-r2:-7.60987\tvalid-rmse:37.35501\tvalid-r2:-7.96497\n",
      "[60]\ttrain-rmse:31.04961\ttrain-r2:-4.95120\tvalid-rmse:31.08431\tvalid-r2:-5.20774\n",
      "[70]\ttrain-rmse:25.98398\ttrain-r2:-3.16777\tvalid-rmse:26.03102\tvalid-r2:-3.35345\n",
      "[80]\ttrain-rmse:21.93871\ttrain-r2:-1.97108\tvalid-rmse:21.99811\tvalid-r2:-2.10901\n",
      "[90]\ttrain-rmse:18.73534\ttrain-r2:-1.16678\tvalid-rmse:18.81639\tvalid-r2:-1.27470\n",
      "[100]\ttrain-rmse:16.22450\ttrain-r2:-0.62493\tvalid-rmse:16.33550\tvalid-r2:-0.71442\n",
      "[110]\ttrain-rmse:14.28491\ttrain-r2:-0.25964\tvalid-rmse:14.42725\tvalid-r2:-0.33727\n",
      "[120]\ttrain-rmse:12.81383\ttrain-r2:-0.01356\tvalid-rmse:12.98473\tvalid-r2:-0.08322\n",
      "[130]\ttrain-rmse:11.70088\ttrain-r2:0.15486\tvalid-rmse:11.90253\tvalid-r2:0.08981\n",
      "[140]\ttrain-rmse:10.86474\ttrain-r2:0.27133\tvalid-rmse:11.11578\tvalid-r2:0.20616\n",
      "[150]\ttrain-rmse:10.25816\ttrain-r2:0.35042\tvalid-rmse:10.54469\tvalid-r2:0.28564\n",
      "[160]\ttrain-rmse:9.80714\ttrain-r2:0.40629\tvalid-rmse:10.14282\tvalid-r2:0.33905\n",
      "[170]\ttrain-rmse:9.46896\ttrain-r2:0.44653\tvalid-rmse:9.86210\tvalid-r2:0.37513\n",
      "[180]\ttrain-rmse:9.20223\ttrain-r2:0.47727\tvalid-rmse:9.66213\tvalid-r2:0.40021\n",
      "[190]\ttrain-rmse:9.02241\ttrain-r2:0.49750\tvalid-rmse:9.52763\tvalid-r2:0.41680\n",
      "[200]\ttrain-rmse:8.88806\ttrain-r2:0.51235\tvalid-rmse:9.43468\tvalid-r2:0.42812\n",
      "[210]\ttrain-rmse:8.78728\ttrain-r2:0.52335\tvalid-rmse:9.37028\tvalid-r2:0.43590\n",
      "[220]\ttrain-rmse:8.71018\ttrain-r2:0.53168\tvalid-rmse:9.32182\tvalid-r2:0.44172\n",
      "[230]\ttrain-rmse:8.64416\ttrain-r2:0.53875\tvalid-rmse:9.28543\tvalid-r2:0.44607\n",
      "[240]\ttrain-rmse:8.58612\ttrain-r2:0.54492\tvalid-rmse:9.26350\tvalid-r2:0.44868\n",
      "[250]\ttrain-rmse:8.53758\ttrain-r2:0.55005\tvalid-rmse:9.25030\tvalid-r2:0.45025\n",
      "[260]\ttrain-rmse:8.49565\ttrain-r2:0.55446\tvalid-rmse:9.23820\tvalid-r2:0.45169\n",
      "[270]\ttrain-rmse:8.45880\ttrain-r2:0.55832\tvalid-rmse:9.23077\tvalid-r2:0.45257\n",
      "[280]\ttrain-rmse:8.42697\ttrain-r2:0.56163\tvalid-rmse:9.22601\tvalid-r2:0.45314\n",
      "[290]\ttrain-rmse:8.39804\ttrain-r2:0.56464\tvalid-rmse:9.22232\tvalid-r2:0.45357\n",
      "[300]\ttrain-rmse:8.35752\ttrain-r2:0.56883\tvalid-rmse:9.21757\tvalid-r2:0.45414\n",
      "[310]\ttrain-rmse:8.33196\ttrain-r2:0.57146\tvalid-rmse:9.21566\tvalid-r2:0.45436\n",
      "[320]\ttrain-rmse:8.30170\ttrain-r2:0.57457\tvalid-rmse:9.21378\tvalid-r2:0.45459\n",
      "[330]\ttrain-rmse:8.27085\ttrain-r2:0.57773\tvalid-rmse:9.21070\tvalid-r2:0.45495\n",
      "[340]\ttrain-rmse:8.24385\ttrain-r2:0.58048\tvalid-rmse:9.20908\tvalid-r2:0.45514\n",
      "[350]\ttrain-rmse:8.21718\ttrain-r2:0.58319\tvalid-rmse:9.20360\tvalid-r2:0.45579\n",
      "[360]\ttrain-rmse:8.19147\ttrain-r2:0.58579\tvalid-rmse:9.20413\tvalid-r2:0.45573\n",
      "[370]\ttrain-rmse:8.16377\ttrain-r2:0.58859\tvalid-rmse:9.20373\tvalid-r2:0.45577\n",
      "[380]\ttrain-rmse:8.14461\ttrain-r2:0.59052\tvalid-rmse:9.20495\tvalid-r2:0.45563\n",
      "[390]\ttrain-rmse:8.11259\ttrain-r2:0.59373\tvalid-rmse:9.20187\tvalid-r2:0.45599\n",
      "[400]\ttrain-rmse:8.08999\ttrain-r2:0.59599\tvalid-rmse:9.20412\tvalid-r2:0.45573\n",
      "[410]\ttrain-rmse:8.06488\ttrain-r2:0.59850\tvalid-rmse:9.20345\tvalid-r2:0.45581\n",
      "[420]\ttrain-rmse:8.03981\ttrain-r2:0.60099\tvalid-rmse:9.20474\tvalid-r2:0.45565\n",
      "[430]\ttrain-rmse:8.01952\ttrain-r2:0.60300\tvalid-rmse:9.20635\tvalid-r2:0.45547\n",
      "[440]\ttrain-rmse:7.99489\ttrain-r2:0.60544\tvalid-rmse:9.20914\tvalid-r2:0.45514\n",
      "[441]\ttrain-rmse:7.99245\ttrain-r2:0.60568\tvalid-rmse:9.20965\tvalid-r2:0.45507\n"
     ]
    }
   ],
   "source": [
    "# Step11: Training using xgboost\n",
    "import xgboost as xgb\n",
    "from sklearn.metrics import r2_score\n",
    "from sklearn.model_selection import train_test_split\n",
    "x_train, x_valid, y_train, y_valid = train_test_split(pca2_results_train, y_train, test_size=0.2, random_state=42)\n",
    "d_train = xgb.DMatrix(x_train, label=y_train)\n",
    "d_valid = xgb.DMatrix(x_valid, label=y_valid)\n",
    "#d_test = xgb.DMatrix(x_test)\n",
    "d_test = xgb.DMatrix(pca2_results_test)\n",
    "params = {}\n",
    "params['objective'] = 'reg:linear'\n",
    "params['eta'] = 0.02\n",
    "params['max_depth'] = 4\n",
    "def xgb_r2_score(preds, dtrain):\n",
    "    labels = dtrain.get_label()\n",
    "    return 'r2', r2_score(labels, preds)\n",
    "watchlist = [(d_train, 'train'), (d_valid, 'valid')]\n",
    "clf = xgb.train(params, d_train, 1000, watchlist, early_stopping_rounds=50, feval=xgb_r2_score, maximize=True, verbose_eval=10)"
   ]
  },
  {
   "cell_type": "code",
   "execution_count": 12,
   "id": "64471f55",
   "metadata": {},
   "outputs": [
    {
     "data": {
      "text/html": [
       "<div>\n",
       "<style scoped>\n",
       "    .dataframe tbody tr th:only-of-type {\n",
       "        vertical-align: middle;\n",
       "    }\n",
       "\n",
       "    .dataframe tbody tr th {\n",
       "        vertical-align: top;\n",
       "    }\n",
       "\n",
       "    .dataframe thead th {\n",
       "        text-align: right;\n",
       "    }\n",
       "</style>\n",
       "<table border=\"1\" class=\"dataframe\">\n",
       "  <thead>\n",
       "    <tr style=\"text-align: right;\">\n",
       "      <th></th>\n",
       "      <th>ID</th>\n",
       "      <th>y</th>\n",
       "    </tr>\n",
       "  </thead>\n",
       "  <tbody>\n",
       "    <tr>\n",
       "      <th>0</th>\n",
       "      <td>1</td>\n",
       "      <td>79.712715</td>\n",
       "    </tr>\n",
       "    <tr>\n",
       "      <th>1</th>\n",
       "      <td>2</td>\n",
       "      <td>95.915001</td>\n",
       "    </tr>\n",
       "    <tr>\n",
       "      <th>2</th>\n",
       "      <td>3</td>\n",
       "      <td>81.350365</td>\n",
       "    </tr>\n",
       "    <tr>\n",
       "      <th>3</th>\n",
       "      <td>4</td>\n",
       "      <td>77.470039</td>\n",
       "    </tr>\n",
       "    <tr>\n",
       "      <th>4</th>\n",
       "      <td>5</td>\n",
       "      <td>109.934296</td>\n",
       "    </tr>\n",
       "  </tbody>\n",
       "</table>\n",
       "</div>"
      ],
      "text/plain": [
       "   ID           y\n",
       "0   1   79.712715\n",
       "1   2   95.915001\n",
       "2   3   81.350365\n",
       "3   4   77.470039\n",
       "4   5  109.934296"
      ]
     },
     "execution_count": 12,
     "metadata": {},
     "output_type": "execute_result"
    }
   ],
   "source": [
    "# Step12: Predict your test_df values using xgboost\n",
    "p_test = clf.predict(d_test)\n",
    "sub = pd.DataFrame()\n",
    "sub['ID'] = id_test\n",
    "sub['y'] = p_test\n",
    "sub.to_csv('xgb.csv', index=False)\n",
    "sub.head()"
   ]
  },
  {
   "cell_type": "code",
   "execution_count": null,
   "id": "1d8189eb",
   "metadata": {},
   "outputs": [],
   "source": []
  }
 ],
 "metadata": {
  "kernelspec": {
   "display_name": "Python 3",
   "language": "python",
   "name": "python3"
  },
  "language_info": {
   "codemirror_mode": {
    "name": "ipython",
    "version": 3
   },
   "file_extension": ".py",
   "mimetype": "text/x-python",
   "name": "python",
   "nbconvert_exporter": "python",
   "pygments_lexer": "ipython3",
   "version": "3.8.8"
  }
 },
 "nbformat": 4,
 "nbformat_minor": 5
}
